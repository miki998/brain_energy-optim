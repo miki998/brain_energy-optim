{
 "cells": [
  {
   "cell_type": "code",
   "execution_count": 11,
   "metadata": {},
   "outputs": [],
   "source": [
    "import time\n",
    "import numpy as np\n",
    "\n",
    "import os.path as op\n",
    "\n",
    "from copy import deepcopy\n",
    "\n",
    "from tqdm import tqdm\n",
    "import matplotlib.pyplot as plt\n",
    "\n",
    "import h5py\n",
    "\n",
    "import nibabel as nib\n",
    "import pandas as pd\n",
    "\n",
    "import sys\n",
    "sys.path.append(\"../\")\n",
    "\n",
    "from src import power_crtl\n",
    "from src import pkl_custom\n",
    "from src import plot_stat_on_surf"
   ]
  },
  {
   "cell_type": "code",
   "execution_count": 4,
   "metadata": {},
   "outputs": [],
   "source": [
    "def standardize_array(arr):\n",
    "    \"\"\"\n",
    "    Standardizes a numpy array to a range from 0 to 1.\n",
    "    \n",
    "    Parameters:\n",
    "    arr (numpy.ndarray): Input array to be standardized.\n",
    "    \n",
    "    Returns:\n",
    "    numpy.ndarray: Standardized array with values ranging from 0 to 1.\n",
    "    \"\"\"\n",
    "    min_val = np.min(arr)\n",
    "    max_val = np.max(arr)\n",
    "    standardized_arr = (arr - min_val) / (max_val - min_val)\n",
    "    return standardized_arr\n",
    "\n",
    "def flatten_distribution(arr):\n",
    "    \"\"\"\n",
    "    Flattens the distribution of a numpy array while keeping the original order.\n",
    "    \n",
    "    Parameters:\n",
    "    arr (numpy.ndarray): Input array to be flattened.\n",
    "    \n",
    "    Returns:\n",
    "    numpy.ndarray: Flattened array with the same order as the input.\n",
    "    \"\"\"\n",
    "    sorted_indices = np.argsort(arr)\n",
    "    sorted_arr = np.sort(arr)\n",
    "    flattened_arr = np.linspace(sorted_arr[0], sorted_arr[-1], len(arr))\n",
    "    result = np.empty_like(arr)\n",
    "    result[sorted_indices] = flattened_arr\n",
    "    return result\n",
    "\n",
    "def gaussianize_distribution(arr):\n",
    "    \"\"\"\n",
    "    Projects a distribution of a numpy array into a Gaussian distributed array while keeping the original order.\n",
    "    \n",
    "    Parameters:\n",
    "    arr (numpy.ndarray): Input array to be transformed.\n",
    "    \n",
    "    Returns:\n",
    "    numpy.ndarray: Gaussianized array with the same order as the input.\n",
    "    \"\"\"\n",
    "    sorted_indices = np.argsort(arr)\n",
    "    gaussian_arr = np.random.normal(loc=0, scale=1, size=len(arr))\n",
    "    gaussian_arr.sort()\n",
    "    result = np.empty_like(arr)\n",
    "    result[sorted_indices] = gaussian_arr\n",
    "    return result\n",
    "\n",
    "def even_distribution(distrib, factor=2):\n",
    "    if factor == -1:\n",
    "        return gaussianize_distribution(distrib)\n",
    "    if factor == 0:\n",
    "        return flatten_distribution(distrib)\n",
    "    amp = np.abs(distrib)\n",
    "    ret = np.sign(distrib) * amp ** (1/factor)\n",
    "    return ret"
   ]
  },
  {
   "cell_type": "code",
   "execution_count": 8,
   "metadata": {},
   "outputs": [],
   "source": [
    "root_path = \"../\"\n",
    "data_path = \"/Users/mikichan/Desktop/mywork/atlas_data/\"\n",
    "data_path_pet = \"/Users/mikichan/Desktop/mywork/atlas_data/PET/FDG_PET\""
   ]
  },
  {
   "cell_type": "code",
   "execution_count": 9,
   "metadata": {},
   "outputs": [],
   "source": [
    "scale = 1\n",
    "connFilename = op.join(data_path, f'fiber_atlas/probconnatlas/wm.connatlas.scale{scale}.h5')\n",
    "\n",
    "hf = h5py.File(connFilename, 'r')\n",
    "centers = np.array(hf.get('header').get('gmcoords'))\n",
    "gmregions_names = hf.get('header').get('gmregions')[()]\n",
    "nb_regions = gmregions_names.shape[0]\n",
    "hf.close()\n",
    "\n",
    "roi_path = op.join(data_path, 'fiber_atlas/gmlabels_vol.nii')\n",
    "roi_atlas = nib.load(roi_path)\n",
    "atlas_data, affine = roi_atlas.get_fdata(), roi_atlas.affine"
   ]
  },
  {
   "cell_type": "code",
   "execution_count": 17,
   "metadata": {},
   "outputs": [
    {
     "data": {
      "text/plain": [
       "['anat/sub-01_run-1_T1w.nii.gz\\t2018-08-24T11:49:06\\tn/a\\t1a23f124']"
      ]
     },
     "execution_count": 17,
     "metadata": {},
     "output_type": "execute_result"
    }
   ],
   "source": [
    "list(pd.read_csv(op.join(data_path_pet, 'ds003397/sub-01/sub-01_scans.tsv')).iloc[0])"
   ]
  },
  {
   "cell_type": "code",
   "execution_count": 10,
   "metadata": {},
   "outputs": [
    {
     "data": {
      "text/plain": [
       "'/Users/mikichan/Desktop/mywork/atlas_data/PET/FDG_PET/ds003397/sub-01/pet'"
      ]
     },
     "execution_count": 10,
     "metadata": {},
     "output_type": "execute_result"
    }
   ],
   "source": [
    "op.join(data_path_pet, 'ds003397/sub-01/pet'/)"
   ]
  },
  {
   "cell_type": "code",
   "execution_count": 11,
   "metadata": {},
   "outputs": [],
   "source": [
    "rstfMRI = nib.load(op.join(data_path, 'HCP_sample/hcp_smoothen_group_fmri.nii'))\n",
    "rst_timecourses = rstfMRI.get_fdata()\n",
    "\n",
    "if op.exists(op.join(root_path, 'resources/hcp-rst_lausanne2018.pkl')):\n",
    "    roi_timecourses = pkl_custom.open_pkl_file(op.join(root_path, 'resources/hcp-rst_lausanne2018.pkl'))\n",
    "else:\n",
    "    roi_timecourses = np.zeros((len(gmregions_names), rst_timecourses.shape[-1]))\n",
    "    for k in range(1, len(gmregions_names) + 1):\n",
    "        roi_timecourses[k-1] = rst_timecourses[atlas_data == k, :].mean(axis=0)\n",
    "    pkl_custom.save_pkl_file(op.join(root_path, 'resources/hcp-rst_lausanne2018.pkl'), roi_timecourses)"
   ]
  },
  {
   "cell_type": "code",
   "execution_count": null,
   "metadata": {},
   "outputs": [],
   "source": []
  },
  {
   "cell_type": "code",
   "execution_count": null,
   "metadata": {},
   "outputs": [],
   "source": []
  },
  {
   "cell_type": "code",
   "execution_count": null,
   "metadata": {},
   "outputs": [],
   "source": []
  },
  {
   "cell_type": "code",
   "execution_count": null,
   "metadata": {},
   "outputs": [],
   "source": []
  },
  {
   "cell_type": "code",
   "execution_count": null,
   "metadata": {},
   "outputs": [],
   "source": [
    "# plot_stat_on_surf.plot_node_signal_on_surf(even_distribution(mean_distribution, factor=1),\n",
    "#                                            roi_path, gmregions_names, vmin=-0.2, vmax=1.2, cmap='gnuplot2')"
   ]
  }
 ],
 "metadata": {
  "kernelspec": {
   "display_name": "dGSP",
   "language": "python",
   "name": "python3"
  },
  "language_info": {
   "codemirror_mode": {
    "name": "ipython",
    "version": 3
   },
   "file_extension": ".py",
   "mimetype": "text/x-python",
   "name": "python",
   "nbconvert_exporter": "python",
   "pygments_lexer": "ipython3",
   "version": "3.8.18"
  }
 },
 "nbformat": 4,
 "nbformat_minor": 2
}
